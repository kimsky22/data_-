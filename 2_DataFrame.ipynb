{
  "nbformat": 4,
  "nbformat_minor": 0,
  "metadata": {
    "colab": {
      "provenance": [],
      "include_colab_link": true
    },
    "kernelspec": {
      "name": "python3",
      "display_name": "Python 3"
    },
    "language_info": {
      "name": "python"
    }
  },
  "cells": [
    {
      "cell_type": "markdown",
      "metadata": {
        "id": "view-in-github",
        "colab_type": "text"
      },
      "source": [
        "<a href=\"https://colab.research.google.com/github/kimsky22/data_-/blob/main/2_DataFrame.ipynb\" target=\"_parent\"><img src=\"https://colab.research.google.com/assets/colab-badge.svg\" alt=\"Open In Colab\"/></a>"
      ]
    },
    {
      "cell_type": "markdown",
      "source": [
        "👀 🐾 <font color = 'red'> **Data frame** </font>\n",
        "\n",
        "|Index Name/label | column 0| column 1 | column 2 | ...| column n |\n",
        "|:|-|-|-|-|-|\n",
        "|index 0 | data 0 | data 0 | data 0 | ... | data 0 |\n",
        "|index 1 | data 1 | data 1 | data 1 | ... | data 1 |\n",
        "|index 2 | data 2 | data 2 | data 2 | ... | data 2 |\n",
        "|index 3 | data 3 | data 3 | data 3 | ... | data 3 |\n",
        "| . | . | . | . | . | . |\n",
        "| . | . | . | . | . | . |\n",
        "| . | . | . | . | . | . |\n",
        "|index n | data n | data n | data n | ... | data n |\n",
        "|| series 0 | series 1 | series 2 | ... | series n |\n",
        "\n",
        ">\n",
        "\n",
        "- series : column vector\n",
        "- data frame: 2-plane vector or matrix\n",
        "\n",
        ">\n",
        "\n",
        "<font color = 'blue'>👀 🐾 **An example of data frame**\n",
        "\n",
        "Table on p.12 of the textbook\n",
        "\n",
        "|종목코드 | 회사이름| 액면가 | 총주식수 |\n",
        "|:|-|-|-|\n",
        "|005930 | 삼성전자 | 100원 | 5,970,000,000 |\n",
        "|017670 | SK텔레콤 | 500원 | 81,000,000 |\n",
        "|1005380 | 현대자동차 | 5000원 | 214,000,000 |\n",
        "\n"
      ],
      "metadata": {
        "id": "HhxjKRzMymn3"
      }
    },
    {
      "cell_type": "code",
      "source": [
        "#@markdown <font color = 'red'> **🐹 Student Activity 1 ⤵️**\n",
        "\n",
        "#@markdown <font color = 'blue'> **dictionary ➡️ data frame, shape (3,5) 3행 5열**\n",
        "\n",
        "#-*- coding: urf-8 -*-\n",
        "\n",
        "# dictionary data with column name as key & list as value\n",
        "\n",
        "import pandas as pd\n",
        "dict_data = {'c0':[1,2,3], 'c1':[4,5,6], 'c2':[7,8,9], 'c3':[10,11,12], 'c4':[13,14,15]}\n",
        "\n",
        "#함수로 dict_data 변수 내용을 데이터프레임으로 변환. 변수 df에 할당\n",
        "df = pd.DataFrame(dict_data)\n",
        "\n",
        "print(type(df))\n",
        "print('\\n')\n",
        "print(df)\n"
      ],
      "metadata": {
        "colab": {
          "base_uri": "https://localhost:8080/"
        },
        "id": "KSy0Rz6byu99",
        "outputId": "619455e0-ce9b-435c-d8e3-047a0941b72c"
      },
      "execution_count": null,
      "outputs": [
        {
          "output_type": "stream",
          "name": "stdout",
          "text": [
            "<class 'pandas.core.frame.DataFrame'>\n",
            "\n",
            "\n",
            "   c0  c1  c2  c3  c4\n",
            "0   1   4   7  10  13\n",
            "1   2   5   8  11  14\n",
            "2   3   6   9  12  15\n"
          ]
        }
      ]
    },
    {
      "cell_type": "code",
      "source": [
        "#@markdown <font color = 'red'> **🐹 Student Activity 1 ⤵️**\n",
        "\n",
        "#@markdown <font color = 'blue'> **dictionary ➡️ data frame, shape (3,5) 3행 5열 with Index Names**\n",
        "\n",
        "#-*- coding: urf-8 -*-\n",
        "\n",
        "# dictionary data with column name as key & list as value\n",
        "\n",
        "import pandas as pd\n",
        "dict_data = {'c0':[1,2,3], 'c1':[4,5,6], 'c2':[7,8,9], 'c3':[10,11,12], 'c4':[13,14,15]}\n",
        "\n",
        "#함수로 dict_data 변수 내용을 데이터프레임으로 변환. 변수 df에 할당\n",
        "df = pd.DataFrame(dict_data, index=['item1','item2','item3'])\n",
        "\n",
        "print(type(df))\n",
        "print('\\n')\n",
        "print(df)"
      ],
      "metadata": {
        "id": "TfSC1ikpWawO",
        "outputId": "6936ba6f-70c5-42fc-ec02-8003536dbfd7",
        "colab": {
          "base_uri": "https://localhost:8080/"
        }
      },
      "execution_count": null,
      "outputs": [
        {
          "output_type": "stream",
          "name": "stdout",
          "text": [
            "<class 'pandas.core.frame.DataFrame'>\n",
            "\n",
            "\n",
            "       c0  c1  c2  c3  c4\n",
            "item1   1   4   7  10  13\n",
            "item2   2   5   8  11  14\n",
            "item3   3   6   9  12  15\n"
          ]
        }
      ]
    },
    {
      "cell_type": "markdown",
      "source": [
        "👀 🐾 **Give names of row index & coumn name**"
      ],
      "metadata": {
        "id": "Ole8Rw5-7VHQ"
      }
    },
    {
      "cell_type": "code",
      "source": [
        "#@markdown <font color = 'red'> **🐹 Student Activity 2 ⤵️**\n",
        "\n",
        "#@markdown <font color = 'blue'> **행 인덱스/ 열 이름 지정하여 데이터 프레임으로 만들기**\n",
        "\n",
        "#-*- coding: urf-8 -*-\n",
        "\n",
        "import pandas as pd\n",
        "\n",
        "tuple_data = ([15, 'Male', 'Public'], [17, 'Female', 'Priviate'])\n",
        "\n",
        "df = pd.DataFrame(tuple_data, index = ['Simon', 'Emma'],\n",
        "              columns = ['Age', 'Gender', 'School'])\n",
        "\n",
        "print(type(df))\n",
        "print('\\n')\n",
        "print(df)\n",
        "print('\\n')\n",
        "print(df.index)\n",
        "print('\\n')\n",
        "print(df.columns)"
      ],
      "metadata": {
        "id": "3mCeh2bG7wwk",
        "outputId": "242d0830-68c1-409a-d426-fc013386163c",
        "colab": {
          "base_uri": "https://localhost:8080/"
        }
      },
      "execution_count": null,
      "outputs": [
        {
          "output_type": "stream",
          "name": "stdout",
          "text": [
            "<class 'pandas.core.frame.DataFrame'>\n",
            "\n",
            "\n",
            "       Age  Gender    School\n",
            "Simon   15    Male    Public\n",
            "Emma    17  Female  Priviate\n",
            "\n",
            "\n",
            "Index(['Simon', 'Emma'], dtype='object')\n",
            "\n",
            "\n",
            "Index(['Age', 'Gender', 'School'], dtype='object')\n"
          ]
        }
      ]
    },
    {
      "cell_type": "code",
      "source": [
        "#@markdown <font color = 'red'> **🐹 Student Activity 3 ⤵️**\n",
        "\n",
        "#@markdown <font color = 'blue'>위 코드셀 행 인덱스 (row index)를 ['Student 1', 'Student 2']로 변경하고, 열 이름 (column name)을 ['Number of Years', 'M/F', 'Affiliation'] 으로 변경\n",
        "\n",
        "#@markdown Purpose: 🌼 Add some variaions!\n",
        "\n",
        "#@markdown - new index names 는 새로 지정\n",
        "\n",
        "\n",
        "import pandas as pd\n",
        "\n",
        "tuple_data = ([15, 'Male', 'Public'], [17, 'Female', 'Priviate'])\n",
        "\n",
        "df = pd.DataFrame(tuple_data, index = ['Simon', 'Emma'],\n",
        "              columns = ['Age', 'Gender', 'School'])\n",
        "\n",
        "df.index = ['Student 1', 'Student 2']\n",
        "\n",
        "df.columns = ['Number of Years', 'M/F', 'Affiliation']\n",
        "\n",
        "#UserWarning: Pandas doesn't allow columns to be created via a new attribute name. If you miss 'inplace=True argument, you will end up with old column names.\n",
        "#df.rename(columns={'Age':'Number of Years', 'Gender':'M/F', 'School':'Affiliation'}, inplace = True)\n",
        "\n",
        "print(type(df))\n",
        "print('\\n')\n",
        "print(df)\n",
        "\n"
      ],
      "metadata": {
        "id": "Wf6omO_x-Uin",
        "outputId": "75fc6cbb-b203-4317-b4de-7e06e0783b87",
        "colab": {
          "base_uri": "https://localhost:8080/"
        }
      },
      "execution_count": null,
      "outputs": [
        {
          "output_type": "stream",
          "name": "stdout",
          "text": [
            "<class 'pandas.core.frame.DataFrame'>\n",
            "\n",
            "\n",
            "           Number of Years     M/F Affiliation\n",
            "Student 1               15    Male      Public\n",
            "Student 2               17  Female    Priviate\n"
          ]
        }
      ]
    },
    {
      "cell_type": "code",
      "source": [
        "import pandas as pd\n",
        "\n",
        "tuple_data=([15, 'Male', 'Public'], [17, 'Female', 'Private'])\n",
        "\n",
        "df=pd.DataFrame(tuple_data,index=['Simon', 'Emma'],\n",
        "                colums=['Age', 'Gender', 'School'])\n",
        "\n",
        "df.rename(index={'Simon':'Student1', 'Emma':'Student2'} inplace=True)\n",
        "\n",
        "df.rename(columns={'Age':'Number of Years', 'Gender':'M/F', 'School':'Affilliation'}, inplace=True)\n",
        "\n",
        "print(type(df))\n",
        "print('\\n')\n",
        "print(df)"
      ],
      "metadata": {
        "id": "Viin3VYCNnTO",
        "outputId": "e7add2b9-67ba-43ef-811f-85aeed2fcb7e",
        "colab": {
          "base_uri": "https://localhost:8080/",
          "height": 110
        }
      },
      "execution_count": 14,
      "outputs": [
        {
          "output_type": "error",
          "ename": "SyntaxError",
          "evalue": "invalid syntax. Perhaps you forgot a comma? (<ipython-input-14-6b84a1b028fe>, line 8)",
          "traceback": [
            "\u001b[0;36m  File \u001b[0;32m\"<ipython-input-14-6b84a1b028fe>\"\u001b[0;36m, line \u001b[0;32m8\u001b[0m\n\u001b[0;31m    df.rename(index={'Simon':'Student1', 'Emma':'Student2'} inplace=True)\u001b[0m\n\u001b[0m                    ^\u001b[0m\n\u001b[0;31mSyntaxError\u001b[0m\u001b[0;31m:\u001b[0m invalid syntax. Perhaps you forgot a comma?\n"
          ]
        }
      ]
    },
    {
      "cell_type": "code",
      "source": [
        "#@markdown <font color = 'red'> **🐹 Student Activity 3_1 ⤵️**\n",
        "\n",
        "#@markdown <font color = 'blue'> **Instead of giving new names for the rows and columns directly, try to use 'rename()' function!**\n",
        "\n",
        "#@markdown - When new names are given to index names and column names, rename() function can be used.\n",
        "\n",
        "import pandas as pd\n",
        "\n",
        "tuple_data = ([15, 'Male', 'Public'], [17, 'Female', 'Priviate'])\n",
        "\n",
        "df = pd.DataFrame(tuple_data, index = ['Simon', 'Emma'],\n",
        "              columns = ['Age', 'Gender', 'School'])\n",
        "\n",
        "df.rename(index = {'Simon':'Student1', 'Emma':'Student 2'}, inplace = True)\n",
        "\n",
        "df.rename(columns = {'Age':'Number of Years', 'Gender':'M/F', 'School':'Affiliation'}, inplace = True)\n",
        "\n",
        "#UserWarning1: The textbook says Pandas doesn't allow columns to be created via a new attribute name, but it wasn't true.\n",
        "\n",
        "#UserWarning2: If you miss 'inplace=True argument, you will end up with old column names.\n",
        "\n",
        "print(type(df))\n",
        "print('\\n')\n",
        "print(df)"
      ],
      "metadata": {
        "id": "BCqSNiut8cvP",
        "outputId": "f47a26f1-d018-4136-a88a-68f4f5e49265",
        "colab": {
          "base_uri": "https://localhost:8080/"
        }
      },
      "execution_count": null,
      "outputs": [
        {
          "output_type": "stream",
          "name": "stdout",
          "text": [
            "<class 'pandas.core.frame.DataFrame'>\n",
            "\n",
            "\n",
            "           Number of Years     M/F Affiliation\n",
            "Student1                15    Male      Public\n",
            "Student 2               17  Female    Priviate\n"
          ]
        }
      ]
    },
    {
      "cell_type": "code",
      "source": [
        "import pandas as pd\n",
        "tuple_data=([15,'Male', 'Public'], [17, 'Female', 'Priviate'])\n",
        "\n",
        "df=pd.DataFrame(tuple_data, index=['Simon', 'Emma'],\n",
        "            colums=['Age','Gender','School'])\n",
        "df.rename(index={'Simon':'Student 1', 'Emma':'Student 2'})\n",
        "df.rename(colums={'Age':'Number of Years', 'Gender':'M/F', 'School':'Affiliation'})\n",
        "print(type(df))\n",
        "print('\\n')\n",
        "print(df)"
      ],
      "metadata": {
        "id": "OrlnnvnuPWG_",
        "outputId": "d35a918a-10e8-498a-a278-f48add7f2339",
        "colab": {
          "base_uri": "https://localhost:8080/",
          "height": 219
        }
      },
      "execution_count": 12,
      "outputs": [
        {
          "output_type": "error",
          "ename": "TypeError",
          "evalue": "DataFrame.__init__() got an unexpected keyword argument 'colums'",
          "traceback": [
            "\u001b[0;31m---------------------------------------------------------------------------\u001b[0m",
            "\u001b[0;31mTypeError\u001b[0m                                 Traceback (most recent call last)",
            "\u001b[0;32m<ipython-input-12-4ce1a7c0db8b>\u001b[0m in \u001b[0;36m<cell line: 4>\u001b[0;34m()\u001b[0m\n\u001b[1;32m      2\u001b[0m \u001b[0mtuple_data\u001b[0m\u001b[0;34m=\u001b[0m\u001b[0;34m(\u001b[0m\u001b[0;34m[\u001b[0m\u001b[0;36m15\u001b[0m\u001b[0;34m,\u001b[0m\u001b[0;34m'Male'\u001b[0m\u001b[0;34m,\u001b[0m \u001b[0;34m'Public'\u001b[0m\u001b[0;34m]\u001b[0m\u001b[0;34m,\u001b[0m \u001b[0;34m[\u001b[0m\u001b[0;36m17\u001b[0m\u001b[0;34m,\u001b[0m \u001b[0;34m'Female'\u001b[0m\u001b[0;34m,\u001b[0m \u001b[0;34m'Priviate'\u001b[0m\u001b[0;34m]\u001b[0m\u001b[0;34m)\u001b[0m\u001b[0;34m\u001b[0m\u001b[0;34m\u001b[0m\u001b[0m\n\u001b[1;32m      3\u001b[0m \u001b[0;34m\u001b[0m\u001b[0m\n\u001b[0;32m----> 4\u001b[0;31m df=pd.DataFrame(tuple_data, index=['Simon', 'Emma'],\n\u001b[0m\u001b[1;32m      5\u001b[0m             colums=['Age','Gender','School'])\n\u001b[1;32m      6\u001b[0m \u001b[0mdf\u001b[0m\u001b[0;34m.\u001b[0m\u001b[0mrename\u001b[0m\u001b[0;34m(\u001b[0m\u001b[0mindex\u001b[0m\u001b[0;34m=\u001b[0m\u001b[0;34m{\u001b[0m\u001b[0;34m'Simon'\u001b[0m\u001b[0;34m:\u001b[0m\u001b[0;34m'Student 1'\u001b[0m\u001b[0;34m,\u001b[0m \u001b[0;34m'Emma'\u001b[0m\u001b[0;34m:\u001b[0m\u001b[0;34m'Student 2'\u001b[0m\u001b[0;34m}\u001b[0m\u001b[0;34m)\u001b[0m\u001b[0;34m\u001b[0m\u001b[0;34m\u001b[0m\u001b[0m\n",
            "\u001b[0;31mTypeError\u001b[0m: DataFrame.__init__() got an unexpected keyword argument 'colums'"
          ]
        }
      ]
    },
    {
      "cell_type": "code",
      "source": [
        "#@markdown <font color = 'red'> **🐹 Student Activity 3_2 ⤵️**\n",
        "\n",
        "#@markdown <font color = 'blue'> **💊 If you miss 'inplace=True argument of pd.rename() function for the immediate application of the operation, you will end up with old row/column names.**\n",
        "\n",
        "import pandas as pd\n",
        "\n",
        "tuple_data = ([15, 'Male', 'Public'], [17, 'Female', 'Priviate'])\n",
        "\n",
        "df = pd.DataFrame(tuple_data, index = ['Simon', 'Emma'],\n",
        "              columns = ['Age', 'Gender', 'School'])\n",
        "\n",
        "df.rename(index = {'Simon':'Student1', 'Emma':'Student 2'})\n",
        "\n",
        "df.rename(columns = {'Age':'Number of Years', 'Gender':'M/F', 'School':'Affiliation'})\n",
        "\n",
        "\n",
        "print(type(df))\n",
        "print('\\n')\n",
        "print(df)"
      ],
      "metadata": {
        "id": "Pc_Q-FY2-Cdf",
        "outputId": "7fd58e0e-414b-420f-bb0e-34cc0e4f3417",
        "colab": {
          "base_uri": "https://localhost:8080/"
        }
      },
      "execution_count": 4,
      "outputs": [
        {
          "output_type": "stream",
          "name": "stdout",
          "text": [
            "<class 'pandas.core.frame.DataFrame'>\n",
            "\n",
            "\n",
            "       Age  Gender    School\n",
            "Simon   15    Male    Public\n",
            "Emma    17  Female  Priviate\n"
          ]
        }
      ]
    },
    {
      "cell_type": "markdown",
      "source": [
        "<font color = 'blue'>👀 🐾 **Dropping rows & colums**"
      ],
      "metadata": {
        "id": "J8FhLIJoGyOP"
      }
    },
    {
      "cell_type": "code",
      "source": [
        "import pandas as pd\n",
        "\n",
        "exam_data={'Math':[100,90,100], 'English':[95,85,89],\n",
        "           'Music':[85,95,100], 'Gym':[100,100,100]}\n",
        "\n",
        "df=pd.DataFrame(exam_data, index=['주연','영훈', '현재'])\n",
        "\n",
        "print(df)\n",
        "print('\\n')\n",
        "\n",
        "df2=df[:]\n",
        "\n",
        "df2.drop('주연', axis=0, inplace=True)\n",
        "\n",
        "print(df2)\n",
        "print('\\n')"
      ],
      "metadata": {
        "id": "8586-c3kRFCV",
        "outputId": "3a387a27-354e-4d6e-b132-1a1f52c7ad7a",
        "colab": {
          "base_uri": "https://localhost:8080/"
        }
      },
      "execution_count": 9,
      "outputs": [
        {
          "output_type": "stream",
          "name": "stdout",
          "text": [
            "    Math  English  Music  Gym\n",
            "주연   100       95     85  100\n",
            "영훈    90       85     95  100\n",
            "현재   100       89    100  100\n",
            "\n",
            "\n",
            "    Math  English  Music  Gym\n",
            "영훈    90       85     95  100\n",
            "현재   100       89    100  100\n",
            "\n",
            "\n"
          ]
        },
        {
          "output_type": "stream",
          "name": "stderr",
          "text": [
            "<ipython-input-9-ae897653fecf>:13: SettingWithCopyWarning: \n",
            "A value is trying to be set on a copy of a slice from a DataFrame\n",
            "\n",
            "See the caveats in the documentation: https://pandas.pydata.org/pandas-docs/stable/user_guide/indexing.html#returning-a-view-versus-a-copy\n",
            "  df2.drop('주연', axis=0, inplace=True)\n"
          ]
        }
      ]
    },
    {
      "cell_type": "code",
      "source": [
        "#@markdown <font color = 'red'> **🐹 Student Activity 4 ⤵️**\n",
        "\n",
        "#@markdown <font color = 'blue'> **Dropping rows 행 삭제**\n",
        "\n",
        "import pandas as pd\n",
        "\n",
        "exam_data = {'Math':[90, 80, 70], 'English':[98, 89, 95],\n",
        "             'Music':[85, 95, 100], 'Gym':[100,90,90]}\n",
        "\n",
        "df = pd.DataFrame(exam_data, index = ['Simon', 'Emma', 'Mary'])\n",
        "\n",
        "print(df)\n",
        "print('\\n')\n",
        "\n",
        "df2 = df[:]\n",
        "\n",
        "# axis=0 for dropping \"rows\" (cf., axis=1 for dopping columns)\n",
        "df2.drop('Emma', axis=0, inplace = True)\n",
        "\n",
        "print(df2)\n",
        "print('\\n')"
      ],
      "metadata": {
        "id": "0iqCoSQZEB4I",
        "outputId": "7ff4c631-f4b4-428e-a8d3-fe21216dbdbe",
        "colab": {
          "base_uri": "https://localhost:8080/"
        }
      },
      "execution_count": null,
      "outputs": [
        {
          "output_type": "stream",
          "name": "stdout",
          "text": [
            "       Math  English  Music  Gym\n",
            "Simon    90       98     85  100\n",
            "Emma     80       89     95   90\n",
            "Mary     70       95    100   90\n",
            "\n",
            "\n",
            "       Math  English  Music  Gym\n",
            "Simon    90       98     85  100\n",
            "Mary     70       95    100   90\n",
            "\n",
            "\n"
          ]
        },
        {
          "output_type": "stream",
          "name": "stderr",
          "text": [
            "<ipython-input-16-4721aa9579e3>:16: SettingWithCopyWarning: \n",
            "A value is trying to be set on a copy of a slice from a DataFrame\n",
            "\n",
            "See the caveats in the documentation: https://pandas.pydata.org/pandas-docs/stable/user_guide/indexing.html#returning-a-view-versus-a-copy\n",
            "  df2.drop('Emma', axis=0, inplace = True) # axis=0 for dropping \"rows\" (cf., axis=1 for dopping columns)\n"
          ]
        }
      ]
    },
    {
      "cell_type": "code",
      "source": [
        "import pandas as pd\n",
        "\n",
        "exam_data={'Match':[100,90,95], 'English':[89,78,95],\n",
        "           'Music':[100,95,95], 'Gym':[100,100,95]}\n",
        "\n",
        "df=pd.DataFrame(exam_data, index=['예진','도윤','효진'])\n",
        "\n",
        "print(df)\n",
        "print('\\n')\n",
        "\n",
        "df2=df[:]\n",
        "\n",
        "df2.drop('Gym',axis=1, inplace=True)\n",
        "\n",
        "print(df2)"
      ],
      "metadata": {
        "id": "lrXn7GuWSSJM",
        "outputId": "a412f26a-c3b8-462d-930e-eb16185d14f7",
        "colab": {
          "base_uri": "https://localhost:8080/"
        }
      },
      "execution_count": 10,
      "outputs": [
        {
          "output_type": "stream",
          "name": "stdout",
          "text": [
            "    Match  English  Music  Gym\n",
            "예진    100       89    100  100\n",
            "도윤     90       78     95  100\n",
            "효진     95       95     95   95\n",
            "\n",
            "\n",
            "    Match  English  Music\n",
            "예진    100       89    100\n",
            "도윤     90       78     95\n",
            "효진     95       95     95\n"
          ]
        },
        {
          "output_type": "stream",
          "name": "stderr",
          "text": [
            "<ipython-input-10-5d33a8a4a65b>:13: SettingWithCopyWarning: \n",
            "A value is trying to be set on a copy of a slice from a DataFrame\n",
            "\n",
            "See the caveats in the documentation: https://pandas.pydata.org/pandas-docs/stable/user_guide/indexing.html#returning-a-view-versus-a-copy\n",
            "  df2.drop('Gym',axis=1, inplace=True)\n"
          ]
        }
      ]
    },
    {
      "cell_type": "code",
      "source": [
        "#@markdown <font color = 'red'> **🐹 Student Activity 4 ⤵️**\n",
        "\n",
        "#@markdown <font color = 'blue'> **Dropping columns 열 삭제**\n",
        "import pandas as pd\n",
        "\n",
        "exam_data = {'Math':[90, 80, 70], 'English':[98, 89, 95],\n",
        "             'Music':[85, 95, 100], 'Gym':[100,90,90]}\n",
        "\n",
        "df = pd.DataFrame(exam_data, index = ['Simon', 'Emma', 'Mary'])\n",
        "\n",
        "print(df)\n",
        "print('\\n')\n",
        "\n",
        "df2 = df[:]\n",
        "\n",
        "# axis=1 for dropping columns\n",
        "df2.drop('Gym', axis=1, inplace=True)\n",
        "\n",
        "print(df2)"
      ],
      "metadata": {
        "id": "3gakU7shGM-e",
        "outputId": "ea48bdf2-0b13-4068-a922-7976d1ecedcb",
        "colab": {
          "base_uri": "https://localhost:8080/"
        }
      },
      "execution_count": null,
      "outputs": [
        {
          "output_type": "stream",
          "name": "stdout",
          "text": [
            "       Math  English  Music  Gym\n",
            "Simon    90       98     85  100\n",
            "Emma     80       89     95   90\n",
            "Mary     70       95    100   90\n",
            "\n",
            "\n",
            "       Math  English  Music\n",
            "Simon    90       98     85\n",
            "Emma     80       89     95\n",
            "Mary     70       95    100\n"
          ]
        },
        {
          "output_type": "stream",
          "name": "stderr",
          "text": [
            "<ipython-input-17-227bb8f723a7>:15: SettingWithCopyWarning: \n",
            "A value is trying to be set on a copy of a slice from a DataFrame\n",
            "\n",
            "See the caveats in the documentation: https://pandas.pydata.org/pandas-docs/stable/user_guide/indexing.html#returning-a-view-versus-a-copy\n",
            "  df2.drop('Gym', axis=1, inplace=True) # axis=1 for dropping columns\n"
          ]
        }
      ]
    },
    {
      "cell_type": "markdown",
      "source": [
        "#<font color = 'red'> **loc[ ], iloc[ ]**\n",
        ">\n",
        "* 인덱스 이름(index name) 기준으로 선택할 때는 loc[] 사용\n",
        "* 정수형 위치(integer position) 인덱스를 사용할 때는 iloc[] 사용\n",
        "\n",
        ">\n",
        "\n",
        "| 구분 | loc[ ] | iloc[ ] |\n",
        "|:|-|-|\n",
        "|탐색대상|인덱스 이름 index label/name| 정수형 위치 인덱스 (integer position)|\n",
        "|범위지정 예시|loc['a':'c'] ➡️ 'a', 'b', 'c'|iloc[3:7] ➡️  3,4,5,6|"
      ],
      "metadata": {
        "id": "DaZaTy2SH_tX"
      }
    },
    {
      "cell_type": "code",
      "source": [
        "import pandas as pd\n",
        "\n",
        "exam_data={'Match':[90,85,95], 'English':[70,90,95],\n",
        "          'Music':[100,95,100], 'Gym':[90,100,98]}\n",
        "\n",
        "df=pd.DataFrame(exam_data, index=['레몬','마들렌','연유'])\n",
        "\n",
        "print(df)\n",
        "print('\\n')\n",
        "\n",
        "label1 = df.loc['레몬']\n",
        "print(label1)\n",
        "print('\\n')\n",
        "\n",
        "position1 = df.iloc[0]\n",
        "print(position1)"
      ],
      "metadata": {
        "id": "vnNWH3WGUTOH",
        "outputId": "f94f9009-543e-498b-a0cb-9ec3b30a85a9",
        "colab": {
          "base_uri": "https://localhost:8080/"
        }
      },
      "execution_count": 21,
      "outputs": [
        {
          "output_type": "stream",
          "name": "stdout",
          "text": [
            "     Match  English  Music  Gym\n",
            "레몬      90       70    100   90\n",
            "마들렌     85       90     95  100\n",
            "연유      95       95    100   98\n",
            "\n",
            "\n",
            "Match       90\n",
            "English     70\n",
            "Music      100\n",
            "Gym         90\n",
            "Name: 레몬, dtype: int64\n",
            "\n",
            "\n",
            "Match       90\n",
            "English     70\n",
            "Music      100\n",
            "Gym         90\n",
            "Name: 레몬, dtype: int64\n"
          ]
        }
      ]
    },
    {
      "cell_type": "code",
      "source": [
        "#@markdown <font color = 'red'> **🐹 Student Activity 5 ⤵️**\n",
        "\n",
        "#@markdown <font color = 'blue'> **Choose a row 행 선택**\n",
        "\n",
        "#@markdown <font color = 'blue'> **loc[] & iloc[]**\n",
        "\n",
        "import pandas as pd\n",
        "\n",
        "exam_data = {'Math':[90, 80, 70], 'English':[98, 89, 95],\n",
        "             'Music':[85, 95, 100], 'Gym':[100,90,90]}\n",
        "\n",
        "df = pd.DataFrame(exam_data, index = ['Simon', 'Emma', 'Mary'])\n",
        "\n",
        "print(df)\n",
        "print('\\n')\n",
        "\n",
        "\n",
        "#Data display is trasversed when one element is in loc[].\n",
        "label1 = df.loc['Simon']\n",
        "print(label1)\n",
        "print('\\n')\n",
        "\n",
        "#Data display is trasversed when one element is in loc[].\n",
        "position1 = df.iloc[0]\n",
        "print(position1)\n"
      ],
      "metadata": {
        "id": "gyoTZY2KHtuZ",
        "outputId": "52145984-bd0a-460e-8bcd-09980de25bb3",
        "colab": {
          "base_uri": "https://localhost:8080/"
        }
      },
      "execution_count": null,
      "outputs": [
        {
          "output_type": "stream",
          "name": "stdout",
          "text": [
            "       Math  English  Music  Gym\n",
            "Simon    90       98     85  100\n",
            "Emma     80       89     95   90\n",
            "Mary     70       95    100   90\n",
            "\n",
            "\n",
            "Math        90\n",
            "English     98\n",
            "Music       85\n",
            "Gym        100\n",
            "Name: Simon, dtype: int64\n",
            "\n",
            "\n",
            "Math        90\n",
            "English     98\n",
            "Music       85\n",
            "Gym        100\n",
            "Name: Simon, dtype: int64\n"
          ]
        }
      ]
    },
    {
      "cell_type": "code",
      "source": [
        "import pandas as pd\n",
        "\n",
        "exam_data = {'Math':[90, 80, 70, 85], 'English':[98, 89, 95, 79],\n",
        "             'Music':[90,89,95], 'Gym':[90,89,96]}\n",
        "\n",
        "df = pd.DataFrame(exam_data, index = ['Simon', 'Emma', 'Mary', 'Louis'])\n",
        "\n",
        "print(df)\n",
        "print('\\n')\n",
        "\n",
        "label2 = df.loc[['Simon', 'Mary']]\n",
        "print(label2)\n",
        "print('\\n')\n",
        "\n",
        "position1 = df.iloc[0]\n",
        "print(position1)\n",
        "print('\\n')\n",
        "\n",
        "position2=df.iloc[[0,2]]\n",
        "print(position2)\n",
        "print('\\n')\n",
        "\n",
        "position3 = df.iloc[[0,1,2]]\n",
        "print(position3)\n",
        "print('\\n')"
      ],
      "metadata": {
        "id": "gHfazKP6YMd9",
        "outputId": "2f61b55a-59a2-4e96-8a98-e816fb0b1002",
        "colab": {
          "base_uri": "https://localhost:8080/",
          "height": 370
        }
      },
      "execution_count": 24,
      "outputs": [
        {
          "output_type": "error",
          "ename": "ValueError",
          "evalue": "Length of values (3) does not match length of index (4)",
          "traceback": [
            "\u001b[0;31m---------------------------------------------------------------------------\u001b[0m",
            "\u001b[0;31mValueError\u001b[0m                                Traceback (most recent call last)",
            "\u001b[0;32m<ipython-input-24-1669c4d8326f>\u001b[0m in \u001b[0;36m<cell line: 6>\u001b[0;34m()\u001b[0m\n\u001b[1;32m      4\u001b[0m              'Music':[90,89,95], 'Gym':[90,89,96]}\n\u001b[1;32m      5\u001b[0m \u001b[0;34m\u001b[0m\u001b[0m\n\u001b[0;32m----> 6\u001b[0;31m \u001b[0mdf\u001b[0m \u001b[0;34m=\u001b[0m \u001b[0mpd\u001b[0m\u001b[0;34m.\u001b[0m\u001b[0mDataFrame\u001b[0m\u001b[0;34m(\u001b[0m\u001b[0mexam_data\u001b[0m\u001b[0;34m,\u001b[0m \u001b[0mindex\u001b[0m \u001b[0;34m=\u001b[0m \u001b[0;34m[\u001b[0m\u001b[0;34m'Simon'\u001b[0m\u001b[0;34m,\u001b[0m \u001b[0;34m'Emma'\u001b[0m\u001b[0;34m,\u001b[0m \u001b[0;34m'Mary'\u001b[0m\u001b[0;34m,\u001b[0m \u001b[0;34m'Louis'\u001b[0m\u001b[0;34m]\u001b[0m\u001b[0;34m)\u001b[0m\u001b[0;34m\u001b[0m\u001b[0;34m\u001b[0m\u001b[0m\n\u001b[0m\u001b[1;32m      7\u001b[0m \u001b[0;34m\u001b[0m\u001b[0m\n\u001b[1;32m      8\u001b[0m \u001b[0mprint\u001b[0m\u001b[0;34m(\u001b[0m\u001b[0mdf\u001b[0m\u001b[0;34m)\u001b[0m\u001b[0;34m\u001b[0m\u001b[0;34m\u001b[0m\u001b[0m\n",
            "\u001b[0;32m/usr/local/lib/python3.10/dist-packages/pandas/core/frame.py\u001b[0m in \u001b[0;36m__init__\u001b[0;34m(self, data, index, columns, dtype, copy)\u001b[0m\n\u001b[1;32m    662\u001b[0m         \u001b[0;32melif\u001b[0m \u001b[0misinstance\u001b[0m\u001b[0;34m(\u001b[0m\u001b[0mdata\u001b[0m\u001b[0;34m,\u001b[0m \u001b[0mdict\u001b[0m\u001b[0;34m)\u001b[0m\u001b[0;34m:\u001b[0m\u001b[0;34m\u001b[0m\u001b[0;34m\u001b[0m\u001b[0m\n\u001b[1;32m    663\u001b[0m             \u001b[0;31m# GH#38939 de facto copy defaults to False only in non-dict cases\u001b[0m\u001b[0;34m\u001b[0m\u001b[0;34m\u001b[0m\u001b[0m\n\u001b[0;32m--> 664\u001b[0;31m             \u001b[0mmgr\u001b[0m \u001b[0;34m=\u001b[0m \u001b[0mdict_to_mgr\u001b[0m\u001b[0;34m(\u001b[0m\u001b[0mdata\u001b[0m\u001b[0;34m,\u001b[0m \u001b[0mindex\u001b[0m\u001b[0;34m,\u001b[0m \u001b[0mcolumns\u001b[0m\u001b[0;34m,\u001b[0m \u001b[0mdtype\u001b[0m\u001b[0;34m=\u001b[0m\u001b[0mdtype\u001b[0m\u001b[0;34m,\u001b[0m \u001b[0mcopy\u001b[0m\u001b[0;34m=\u001b[0m\u001b[0mcopy\u001b[0m\u001b[0;34m,\u001b[0m \u001b[0mtyp\u001b[0m\u001b[0;34m=\u001b[0m\u001b[0mmanager\u001b[0m\u001b[0;34m)\u001b[0m\u001b[0;34m\u001b[0m\u001b[0;34m\u001b[0m\u001b[0m\n\u001b[0m\u001b[1;32m    665\u001b[0m         \u001b[0;32melif\u001b[0m \u001b[0misinstance\u001b[0m\u001b[0;34m(\u001b[0m\u001b[0mdata\u001b[0m\u001b[0;34m,\u001b[0m \u001b[0mma\u001b[0m\u001b[0;34m.\u001b[0m\u001b[0mMaskedArray\u001b[0m\u001b[0;34m)\u001b[0m\u001b[0;34m:\u001b[0m\u001b[0;34m\u001b[0m\u001b[0;34m\u001b[0m\u001b[0m\n\u001b[1;32m    666\u001b[0m             \u001b[0;32mimport\u001b[0m \u001b[0mnumpy\u001b[0m\u001b[0;34m.\u001b[0m\u001b[0mma\u001b[0m\u001b[0;34m.\u001b[0m\u001b[0mmrecords\u001b[0m \u001b[0;32mas\u001b[0m \u001b[0mmrecords\u001b[0m\u001b[0;34m\u001b[0m\u001b[0;34m\u001b[0m\u001b[0m\n",
            "\u001b[0;32m/usr/local/lib/python3.10/dist-packages/pandas/core/internals/construction.py\u001b[0m in \u001b[0;36mdict_to_mgr\u001b[0;34m(data, index, columns, dtype, typ, copy)\u001b[0m\n\u001b[1;32m    491\u001b[0m             \u001b[0marrays\u001b[0m \u001b[0;34m=\u001b[0m \u001b[0;34m[\u001b[0m\u001b[0mx\u001b[0m\u001b[0;34m.\u001b[0m\u001b[0mcopy\u001b[0m\u001b[0;34m(\u001b[0m\u001b[0;34m)\u001b[0m \u001b[0;32mif\u001b[0m \u001b[0mhasattr\u001b[0m\u001b[0;34m(\u001b[0m\u001b[0mx\u001b[0m\u001b[0;34m,\u001b[0m \u001b[0;34m\"dtype\"\u001b[0m\u001b[0;34m)\u001b[0m \u001b[0;32melse\u001b[0m \u001b[0mx\u001b[0m \u001b[0;32mfor\u001b[0m \u001b[0mx\u001b[0m \u001b[0;32min\u001b[0m \u001b[0marrays\u001b[0m\u001b[0;34m]\u001b[0m\u001b[0;34m\u001b[0m\u001b[0;34m\u001b[0m\u001b[0m\n\u001b[1;32m    492\u001b[0m \u001b[0;34m\u001b[0m\u001b[0m\n\u001b[0;32m--> 493\u001b[0;31m     \u001b[0;32mreturn\u001b[0m \u001b[0marrays_to_mgr\u001b[0m\u001b[0;34m(\u001b[0m\u001b[0marrays\u001b[0m\u001b[0;34m,\u001b[0m \u001b[0mcolumns\u001b[0m\u001b[0;34m,\u001b[0m \u001b[0mindex\u001b[0m\u001b[0;34m,\u001b[0m \u001b[0mdtype\u001b[0m\u001b[0;34m=\u001b[0m\u001b[0mdtype\u001b[0m\u001b[0;34m,\u001b[0m \u001b[0mtyp\u001b[0m\u001b[0;34m=\u001b[0m\u001b[0mtyp\u001b[0m\u001b[0;34m,\u001b[0m \u001b[0mconsolidate\u001b[0m\u001b[0;34m=\u001b[0m\u001b[0mcopy\u001b[0m\u001b[0;34m)\u001b[0m\u001b[0;34m\u001b[0m\u001b[0;34m\u001b[0m\u001b[0m\n\u001b[0m\u001b[1;32m    494\u001b[0m \u001b[0;34m\u001b[0m\u001b[0m\n\u001b[1;32m    495\u001b[0m \u001b[0;34m\u001b[0m\u001b[0m\n",
            "\u001b[0;32m/usr/local/lib/python3.10/dist-packages/pandas/core/internals/construction.py\u001b[0m in \u001b[0;36marrays_to_mgr\u001b[0;34m(arrays, columns, index, dtype, verify_integrity, typ, consolidate)\u001b[0m\n\u001b[1;32m    121\u001b[0m \u001b[0;34m\u001b[0m\u001b[0m\n\u001b[1;32m    122\u001b[0m         \u001b[0;31m# don't force copy because getting jammed in an ndarray anyway\u001b[0m\u001b[0;34m\u001b[0m\u001b[0;34m\u001b[0m\u001b[0m\n\u001b[0;32m--> 123\u001b[0;31m         \u001b[0marrays\u001b[0m \u001b[0;34m=\u001b[0m \u001b[0m_homogenize\u001b[0m\u001b[0;34m(\u001b[0m\u001b[0marrays\u001b[0m\u001b[0;34m,\u001b[0m \u001b[0mindex\u001b[0m\u001b[0;34m,\u001b[0m \u001b[0mdtype\u001b[0m\u001b[0;34m)\u001b[0m\u001b[0;34m\u001b[0m\u001b[0;34m\u001b[0m\u001b[0m\n\u001b[0m\u001b[1;32m    124\u001b[0m         \u001b[0;31m# _homogenize ensures\u001b[0m\u001b[0;34m\u001b[0m\u001b[0;34m\u001b[0m\u001b[0m\n\u001b[1;32m    125\u001b[0m         \u001b[0;31m#  - all(len(x) == len(index) for x in arrays)\u001b[0m\u001b[0;34m\u001b[0m\u001b[0;34m\u001b[0m\u001b[0m\n",
            "\u001b[0;32m/usr/local/lib/python3.10/dist-packages/pandas/core/internals/construction.py\u001b[0m in \u001b[0;36m_homogenize\u001b[0;34m(data, index, dtype)\u001b[0m\n\u001b[1;32m    618\u001b[0m                 \u001b[0mval\u001b[0m\u001b[0;34m,\u001b[0m \u001b[0mindex\u001b[0m\u001b[0;34m,\u001b[0m \u001b[0mdtype\u001b[0m\u001b[0;34m=\u001b[0m\u001b[0mdtype\u001b[0m\u001b[0;34m,\u001b[0m \u001b[0mcopy\u001b[0m\u001b[0;34m=\u001b[0m\u001b[0;32mFalse\u001b[0m\u001b[0;34m,\u001b[0m \u001b[0mraise_cast_failure\u001b[0m\u001b[0;34m=\u001b[0m\u001b[0;32mFalse\u001b[0m\u001b[0;34m\u001b[0m\u001b[0;34m\u001b[0m\u001b[0m\n\u001b[1;32m    619\u001b[0m             )\n\u001b[0;32m--> 620\u001b[0;31m             \u001b[0mcom\u001b[0m\u001b[0;34m.\u001b[0m\u001b[0mrequire_length_match\u001b[0m\u001b[0;34m(\u001b[0m\u001b[0mval\u001b[0m\u001b[0;34m,\u001b[0m \u001b[0mindex\u001b[0m\u001b[0;34m)\u001b[0m\u001b[0;34m\u001b[0m\u001b[0;34m\u001b[0m\u001b[0m\n\u001b[0m\u001b[1;32m    621\u001b[0m \u001b[0;34m\u001b[0m\u001b[0m\n\u001b[1;32m    622\u001b[0m         \u001b[0mhomogenized\u001b[0m\u001b[0;34m.\u001b[0m\u001b[0mappend\u001b[0m\u001b[0;34m(\u001b[0m\u001b[0mval\u001b[0m\u001b[0;34m)\u001b[0m\u001b[0;34m\u001b[0m\u001b[0;34m\u001b[0m\u001b[0m\n",
            "\u001b[0;32m/usr/local/lib/python3.10/dist-packages/pandas/core/common.py\u001b[0m in \u001b[0;36mrequire_length_match\u001b[0;34m(data, index)\u001b[0m\n\u001b[1;32m    569\u001b[0m     \"\"\"\n\u001b[1;32m    570\u001b[0m     \u001b[0;32mif\u001b[0m \u001b[0mlen\u001b[0m\u001b[0;34m(\u001b[0m\u001b[0mdata\u001b[0m\u001b[0;34m)\u001b[0m \u001b[0;34m!=\u001b[0m \u001b[0mlen\u001b[0m\u001b[0;34m(\u001b[0m\u001b[0mindex\u001b[0m\u001b[0;34m)\u001b[0m\u001b[0;34m:\u001b[0m\u001b[0;34m\u001b[0m\u001b[0;34m\u001b[0m\u001b[0m\n\u001b[0;32m--> 571\u001b[0;31m         raise ValueError(\n\u001b[0m\u001b[1;32m    572\u001b[0m             \u001b[0;34m\"Length of values \"\u001b[0m\u001b[0;34m\u001b[0m\u001b[0;34m\u001b[0m\u001b[0m\n\u001b[1;32m    573\u001b[0m             \u001b[0;34mf\"({len(data)}) \"\u001b[0m\u001b[0;34m\u001b[0m\u001b[0;34m\u001b[0m\u001b[0m\n",
            "\u001b[0;31mValueError\u001b[0m: Length of values (3) does not match length of index (4)"
          ]
        }
      ]
    },
    {
      "cell_type": "code",
      "source": [
        "#@markdown <font color = 'red'> **🐹 Student Activity 6 ⤵️**\n",
        "\n",
        "#@markdown <font color = 'blue'> **Choose rows 복수행 선택**\n",
        "\n",
        "#@markdown <font color = 'blue'> **loc[[]] & iloc[[]]**\n",
        "\n",
        "import pandas as pd\n",
        "\n",
        "exam_data = {'Math':[90, 80, 70, 85], 'English':[98, 89, 95, 79],\n",
        "             'Music':[85, 95, 100, 100], 'Gym':[100,90,90, 88]}\n",
        "\n",
        "df = pd.DataFrame(exam_data, index = ['Simon', 'Emma', 'Mary', 'Louis'])\n",
        "\n",
        "print(df)\n",
        "print('\\n')\n",
        "\n",
        "#Choose rows 복수행 선택\n",
        "label2 = df.loc[['Simon', 'Mary']]\n",
        "print(label2)\n",
        "print('\\n')\n",
        "\n",
        "#Choose a row, resulting in its corresponding columns trasversed.\n",
        "position1 = df.iloc[0]\n",
        "print(position1)\n",
        "print('\\n')\n",
        "\n",
        "#Choose rows 복수행 선택 (index number 0 & index number 2)\n",
        "position2 = df.iloc[[0,2]]\n",
        "print(position2)\n",
        "print('\\n')\n",
        "\n",
        "#Choose rows 복수행 선택 (index number 0, index number 2, & index number 2)\n",
        "position3 = df.iloc[[0,1,2]]\n",
        "print(position3)\n",
        "print('\\n')"
      ],
      "metadata": {
        "id": "wd4ZkSmkJlLk",
        "outputId": "ad04e667-3cdc-4d86-8c84-de2efc05a568",
        "colab": {
          "base_uri": "https://localhost:8080/"
        }
      },
      "execution_count": null,
      "outputs": [
        {
          "output_type": "stream",
          "name": "stdout",
          "text": [
            "       Math  English  Music  Gym\n",
            "Simon    90       98     85  100\n",
            "Emma     80       89     95   90\n",
            "Mary     70       95    100   90\n",
            "Louis    85       79    100   88\n",
            "\n",
            "\n",
            "       Math  English  Music  Gym\n",
            "Simon    90       98     85  100\n",
            "Mary     70       95    100   90\n",
            "\n",
            "\n",
            "Math        90\n",
            "English     98\n",
            "Music       85\n",
            "Gym        100\n",
            "Name: Simon, dtype: int64\n",
            "\n",
            "\n",
            "       Math  English  Music  Gym\n",
            "Simon    90       98     85  100\n",
            "Mary     70       95    100   90\n",
            "\n",
            "\n",
            "       Math  English  Music  Gym\n",
            "Simon    90       98     85  100\n",
            "Emma     80       89     95   90\n",
            "Mary     70       95    100   90\n",
            "\n",
            "\n"
          ]
        }
      ]
    },
    {
      "cell_type": "code",
      "source": [
        "#@markdown <font color = 'red'> **🐹 Student Activity 7 ⤵️**\n",
        "\n",
        "#@markdown <font color = 'blue'> **Select rows using the colon symbol 콜른 사용하여 복수행 선택**\n",
        "\n",
        "#@markdown <font color = 'blue'> **loc[[]] & iloc[[]]**\n",
        "\n",
        "import pandas as pd\n",
        "\n",
        "exam_data = {'Math':[90, 80, 70, 85], 'English':[98, 89, 95, 79],\n",
        "             'Music':[85, 95, 100, 100], 'Gym':[100,90,90, 88]}\n",
        "\n",
        "df = pd.DataFrame(exam_data, index = ['Simon', 'Emma', 'Mary', 'Louis'])\n",
        "\n",
        "print(df)\n",
        "print('\\n')\n",
        "\n",
        "label3 = df.loc['Simon':'Emma']\n",
        "print(label3)\n",
        "print('\\n')\n",
        "\n",
        "#The last index number is excluded.\n",
        "location4 = df.iloc[0:2]\n",
        "print(location4)"
      ],
      "metadata": {
        "id": "wgsiKE2pK9To",
        "outputId": "54fbc09f-17f0-4389-d6e2-ca0c22d7e741",
        "colab": {
          "base_uri": "https://localhost:8080/"
        }
      },
      "execution_count": null,
      "outputs": [
        {
          "output_type": "stream",
          "name": "stdout",
          "text": [
            "       Math  English  Music  Gym\n",
            "Simon    90       98     85  100\n",
            "Emma     80       89     95   90\n",
            "Mary     70       95    100   90\n",
            "Louis    85       79    100   88\n",
            "\n",
            "\n",
            "       Math  English  Music  Gym\n",
            "Simon    90       98     85  100\n",
            "Emma     80       89     95   90\n",
            "\n",
            "\n",
            "       Math  English  Music  Gym\n",
            "Simon    90       98     85  100\n",
            "Emma     80       89     95   90\n"
          ]
        }
      ]
    },
    {
      "cell_type": "code",
      "source": [
        "#@markdown <font color = 'red'> **🐹 Student Activity 8 ⤵️**\n",
        "\n",
        "#@markdown <font color = 'blue'> **Select a column 열 선택**\n",
        "\n",
        "#@markdown <font color = 'blue'> **column name[ ]**\n",
        "\n",
        "import pandas as pd\n",
        "\n",
        "exam_data = {'Math':[90, 80, 70, 85], 'English':[98, 89, 95, 79],\n",
        "             'Music':[85, 95, 100, 100], 'Gym':[100,90,90, 88]}\n",
        "\n",
        "df = pd.DataFrame(exam_data, index = ['Simon', 'Emma', 'Mary', 'Louis'])\n",
        "\n",
        "print(df)\n",
        "print('\\n')\n",
        "\n",
        "math1 = df['Math']\n",
        "print(math1)\n",
        "print('\\n')\n",
        "print(type(math1))\n",
        "\n",
        "english1 = df['English']\n",
        "print(english1)\n",
        "print('\\n')\n",
        "print(type(english1))\n",
        "\n",
        "gym1 = df['Gym']\n",
        "print(gym1)\n",
        "print('\\n')\n",
        "print(type(gym1))"
      ],
      "metadata": {
        "id": "1ElBWe4XMLQN",
        "outputId": "536ab4ec-b60e-4097-969b-09aa4209f61b",
        "colab": {
          "base_uri": "https://localhost:8080/"
        }
      },
      "execution_count": null,
      "outputs": [
        {
          "output_type": "stream",
          "name": "stdout",
          "text": [
            "       Math  English  Music  Gym\n",
            "Simon    90       98     85  100\n",
            "Emma     80       89     95   90\n",
            "Mary     70       95    100   90\n",
            "Louis    85       79    100   88\n",
            "\n",
            "\n",
            "Simon    90\n",
            "Emma     80\n",
            "Mary     70\n",
            "Louis    85\n",
            "Name: Math, dtype: int64\n",
            "\n",
            "\n",
            "<class 'pandas.core.series.Series'>\n",
            "Simon    98\n",
            "Emma     89\n",
            "Mary     95\n",
            "Louis    79\n",
            "Name: English, dtype: int64\n",
            "\n",
            "\n",
            "<class 'pandas.core.series.Series'>\n",
            "Simon    100\n",
            "Emma      90\n",
            "Mary      90\n",
            "Louis     88\n",
            "Name: Gym, dtype: int64\n",
            "\n",
            "\n",
            "<class 'pandas.core.series.Series'>\n"
          ]
        }
      ]
    },
    {
      "cell_type": "code",
      "source": [
        "#@markdown <font color = 'red'> **🐹 Student Activity 8 ⤵️**\n",
        "\n",
        "#@markdown <font color = 'blue'> **Select columns 복수열 선택**\n",
        "\n",
        "#@markdown <font color = 'blue'> **column name[[]]**\n",
        "\n",
        "import pandas as pd\n",
        "\n",
        "exam_data = {'Math':[90, 80, 70, 85], 'English':[98, 89, 95, 79],\n",
        "             'Music':[85, 95, 100, 100], 'Gym':[100,90,90, 88]}\n",
        "\n",
        "df = pd.DataFrame(exam_data, index = ['Simon', 'Emma', 'Mary', 'Louis'])\n",
        "\n",
        "print(df)\n",
        "print('\\n')\n",
        "\n",
        "#💣Remember to use two sets of squared brackets!\n",
        "eng_gym = df[['English','Gym']]\n",
        "print(eng_gym)\n",
        "print('\\n')\n",
        "print(type(eng_gym))\n",
        "\n",
        "#💣Remember to use two sets of squared brackets!\n",
        "three_subj = df[['English','Music','Gym']]\n",
        "print(three_subj)\n",
        "print('\\n')\n",
        "print(type(three_subj))"
      ],
      "metadata": {
        "id": "i6JeRsBhN-H1",
        "outputId": "030c118a-ef4b-48e7-ac0a-83f5047f55b8",
        "colab": {
          "base_uri": "https://localhost:8080/"
        }
      },
      "execution_count": null,
      "outputs": [
        {
          "output_type": "stream",
          "name": "stdout",
          "text": [
            "       Math  English  Music  Gym\n",
            "Simon    90       98     85  100\n",
            "Emma     80       89     95   90\n",
            "Mary     70       95    100   90\n",
            "Louis    85       79    100   88\n",
            "\n",
            "\n",
            "       English  Gym\n",
            "Simon       98  100\n",
            "Emma        89   90\n",
            "Mary        95   90\n",
            "Louis       79   88\n",
            "\n",
            "\n",
            "<class 'pandas.core.frame.DataFrame'>\n",
            "       English  Music  Gym\n",
            "Simon       98     85  100\n",
            "Emma        89     95   90\n",
            "Mary        95    100   90\n",
            "Louis       79    100   88\n",
            "\n",
            "\n",
            "<class 'pandas.core.frame.DataFrame'>\n"
          ]
        }
      ]
    }
  ]
}